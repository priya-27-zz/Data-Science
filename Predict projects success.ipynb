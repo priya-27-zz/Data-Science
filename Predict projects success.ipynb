{
 "cells": [
  {
   "cell_type": "code",
   "execution_count": 1,
   "metadata": {},
   "outputs": [],
   "source": [
    "import numpy as np\n",
    "import pandas as pd\n",
    "import seaborn as sns\n",
    "\n",
    "import matplotlib.pyplot as plt\n",
    "%matplotlib inline\n",
    "plt.rcParams['figure.figsize']=(10,6) #change the size of fig drawn (width=10,ht=6)\n"
   ]
  },
  {
   "cell_type": "code",
   "execution_count": 2,
   "metadata": {},
   "outputs": [],
   "source": [
    "train = pd.read_csv(\"pred_train.csv\")\n",
    "test = pd.read_csv(\"pred_test.csv\")"
   ]
  },
  {
   "cell_type": "code",
   "execution_count": 3,
   "metadata": {},
   "outputs": [
    {
     "data": {
      "text/html": [
       "<div>\n",
       "<table border=\"1\" class=\"dataframe\">\n",
       "  <thead>\n",
       "    <tr style=\"text-align: right;\">\n",
       "      <th></th>\n",
       "      <th>project_id</th>\n",
       "      <th>name</th>\n",
       "      <th>desc</th>\n",
       "      <th>goal</th>\n",
       "      <th>keywords</th>\n",
       "      <th>disable_communication</th>\n",
       "      <th>country</th>\n",
       "      <th>currency</th>\n",
       "      <th>deadline</th>\n",
       "      <th>state_changed_at</th>\n",
       "      <th>created_at</th>\n",
       "      <th>launched_at</th>\n",
       "      <th>backers_count</th>\n",
       "      <th>final_status</th>\n",
       "    </tr>\n",
       "  </thead>\n",
       "  <tbody>\n",
       "    <tr>\n",
       "      <th>0</th>\n",
       "      <td>kkst1451568084</td>\n",
       "      <td>drawing for dollars</td>\n",
       "      <td>I like drawing pictures. and then i color them...</td>\n",
       "      <td>20</td>\n",
       "      <td>drawing-for-dollars</td>\n",
       "      <td>False</td>\n",
       "      <td>US</td>\n",
       "      <td>USD</td>\n",
       "      <td>1241333999</td>\n",
       "      <td>1241334017</td>\n",
       "      <td>1240600507</td>\n",
       "      <td>1240602723</td>\n",
       "      <td>3</td>\n",
       "      <td>1</td>\n",
       "    </tr>\n",
       "    <tr>\n",
       "      <th>1</th>\n",
       "      <td>kkst1474482071</td>\n",
       "      <td>Sponsor Dereck Blackburn (Lostwars) Artist in ...</td>\n",
       "      <td>I, Dereck Blackburn will be taking upon an inc...</td>\n",
       "      <td>300</td>\n",
       "      <td>sponsor-dereck-blackburn-lostwars-artist-in-re...</td>\n",
       "      <td>False</td>\n",
       "      <td>US</td>\n",
       "      <td>USD</td>\n",
       "      <td>1242429000</td>\n",
       "      <td>1242432018</td>\n",
       "      <td>1240960224</td>\n",
       "      <td>1240975592</td>\n",
       "      <td>2</td>\n",
       "      <td>0</td>\n",
       "    </tr>\n",
       "    <tr>\n",
       "      <th>2</th>\n",
       "      <td>kkst183622197</td>\n",
       "      <td>Mr. Squiggles</td>\n",
       "      <td>So I saw darkpony's successfully funded drawin...</td>\n",
       "      <td>30</td>\n",
       "      <td>mr-squiggles</td>\n",
       "      <td>False</td>\n",
       "      <td>US</td>\n",
       "      <td>USD</td>\n",
       "      <td>1243027560</td>\n",
       "      <td>1243027818</td>\n",
       "      <td>1242163613</td>\n",
       "      <td>1242164398</td>\n",
       "      <td>0</td>\n",
       "      <td>0</td>\n",
       "    </tr>\n",
       "    <tr>\n",
       "      <th>3</th>\n",
       "      <td>kkst597742710</td>\n",
       "      <td>Help me write my second novel.</td>\n",
       "      <td>Do your part to help out starving artists and ...</td>\n",
       "      <td>500</td>\n",
       "      <td>help-me-write-my-second-novel</td>\n",
       "      <td>False</td>\n",
       "      <td>US</td>\n",
       "      <td>USD</td>\n",
       "      <td>1243555740</td>\n",
       "      <td>1243556121</td>\n",
       "      <td>1240963795</td>\n",
       "      <td>1240966730</td>\n",
       "      <td>18</td>\n",
       "      <td>1</td>\n",
       "    </tr>\n",
       "    <tr>\n",
       "      <th>4</th>\n",
       "      <td>kkst1913131122</td>\n",
       "      <td>Support casting my sculpture in bronze</td>\n",
       "      <td>I'm nearing completion on a sculpture, current...</td>\n",
       "      <td>2000</td>\n",
       "      <td>support-casting-my-sculpture-in-bronze</td>\n",
       "      <td>False</td>\n",
       "      <td>US</td>\n",
       "      <td>USD</td>\n",
       "      <td>1243769880</td>\n",
       "      <td>1243770317</td>\n",
       "      <td>1241177914</td>\n",
       "      <td>1241180541</td>\n",
       "      <td>1</td>\n",
       "      <td>0</td>\n",
       "    </tr>\n",
       "  </tbody>\n",
       "</table>\n",
       "</div>"
      ],
      "text/plain": [
       "       project_id                                               name  \\\n",
       "0  kkst1451568084                                drawing for dollars   \n",
       "1  kkst1474482071  Sponsor Dereck Blackburn (Lostwars) Artist in ...   \n",
       "2   kkst183622197                                      Mr. Squiggles   \n",
       "3   kkst597742710                     Help me write my second novel.   \n",
       "4  kkst1913131122             Support casting my sculpture in bronze   \n",
       "\n",
       "                                                desc  goal  \\\n",
       "0  I like drawing pictures. and then i color them...    20   \n",
       "1  I, Dereck Blackburn will be taking upon an inc...   300   \n",
       "2  So I saw darkpony's successfully funded drawin...    30   \n",
       "3  Do your part to help out starving artists and ...   500   \n",
       "4  I'm nearing completion on a sculpture, current...  2000   \n",
       "\n",
       "                                            keywords disable_communication  \\\n",
       "0                                drawing-for-dollars                 False   \n",
       "1  sponsor-dereck-blackburn-lostwars-artist-in-re...                 False   \n",
       "2                                       mr-squiggles                 False   \n",
       "3                      help-me-write-my-second-novel                 False   \n",
       "4             support-casting-my-sculpture-in-bronze                 False   \n",
       "\n",
       "  country currency    deadline  state_changed_at  created_at  launched_at  \\\n",
       "0      US      USD  1241333999        1241334017  1240600507   1240602723   \n",
       "1      US      USD  1242429000        1242432018  1240960224   1240975592   \n",
       "2      US      USD  1243027560        1243027818  1242163613   1242164398   \n",
       "3      US      USD  1243555740        1243556121  1240963795   1240966730   \n",
       "4      US      USD  1243769880        1243770317  1241177914   1241180541   \n",
       "\n",
       "   backers_count  final_status  \n",
       "0              3             1  \n",
       "1              2             0  \n",
       "2              0             0  \n",
       "3             18             1  \n",
       "4              1             0  "
      ]
     },
     "execution_count": 3,
     "metadata": {},
     "output_type": "execute_result"
    }
   ],
   "source": [
    "train.head()"
   ]
  },
  {
   "cell_type": "code",
   "execution_count": 4,
   "metadata": {},
   "outputs": [
    {
     "data": {
      "text/html": [
       "<div>\n",
       "<table border=\"1\" class=\"dataframe\">\n",
       "  <thead>\n",
       "    <tr style=\"text-align: right;\">\n",
       "      <th></th>\n",
       "      <th>goal</th>\n",
       "      <th>disable_communication</th>\n",
       "      <th>deadline</th>\n",
       "      <th>state_changed_at</th>\n",
       "      <th>created_at</th>\n",
       "      <th>launched_at</th>\n",
       "      <th>backers_count</th>\n",
       "      <th>final_status</th>\n",
       "    </tr>\n",
       "  </thead>\n",
       "  <tbody>\n",
       "    <tr>\n",
       "      <th>count</th>\n",
       "      <td>108129.000000</td>\n",
       "      <td>108129</td>\n",
       "      <td>1.081290e+05</td>\n",
       "      <td>1.081290e+05</td>\n",
       "      <td>1.081290e+05</td>\n",
       "      <td>1.081290e+05</td>\n",
       "      <td>108129.000000</td>\n",
       "      <td>108129.000000</td>\n",
       "    </tr>\n",
       "    <tr>\n",
       "      <th>mean</th>\n",
       "      <td>36726.228833</td>\n",
       "      <td>0.00298717</td>\n",
       "      <td>1.380248e+09</td>\n",
       "      <td>1.380153e+09</td>\n",
       "      <td>1.374037e+09</td>\n",
       "      <td>1.377299e+09</td>\n",
       "      <td>123.516661</td>\n",
       "      <td>0.319627</td>\n",
       "    </tr>\n",
       "    <tr>\n",
       "      <th>std</th>\n",
       "      <td>971902.705156</td>\n",
       "      <td>0.0545736</td>\n",
       "      <td>4.270222e+07</td>\n",
       "      <td>4.266402e+07</td>\n",
       "      <td>4.272310e+07</td>\n",
       "      <td>4.294421e+07</td>\n",
       "      <td>1176.745162</td>\n",
       "      <td>0.466334</td>\n",
       "    </tr>\n",
       "    <tr>\n",
       "      <th>min</th>\n",
       "      <td>0.010000</td>\n",
       "      <td>False</td>\n",
       "      <td>1.241334e+09</td>\n",
       "      <td>1.241334e+09</td>\n",
       "      <td>1.240335e+09</td>\n",
       "      <td>1.240603e+09</td>\n",
       "      <td>0.000000</td>\n",
       "      <td>0.000000</td>\n",
       "    </tr>\n",
       "    <tr>\n",
       "      <th>25%</th>\n",
       "      <td>2000.000000</td>\n",
       "      <td>0</td>\n",
       "      <td>1.346732e+09</td>\n",
       "      <td>1.346695e+09</td>\n",
       "      <td>1.340058e+09</td>\n",
       "      <td>1.343917e+09</td>\n",
       "      <td>2.000000</td>\n",
       "      <td>0.000000</td>\n",
       "    </tr>\n",
       "    <tr>\n",
       "      <th>50%</th>\n",
       "      <td>5000.000000</td>\n",
       "      <td>0</td>\n",
       "      <td>1.393628e+09</td>\n",
       "      <td>1.393567e+09</td>\n",
       "      <td>1.384445e+09</td>\n",
       "      <td>1.390870e+09</td>\n",
       "      <td>17.000000</td>\n",
       "      <td>0.000000</td>\n",
       "    </tr>\n",
       "    <tr>\n",
       "      <th>75%</th>\n",
       "      <td>13000.000000</td>\n",
       "      <td>0</td>\n",
       "      <td>1.415719e+09</td>\n",
       "      <td>1.415548e+09</td>\n",
       "      <td>1.409623e+09</td>\n",
       "      <td>1.412807e+09</td>\n",
       "      <td>65.000000</td>\n",
       "      <td>1.000000</td>\n",
       "    </tr>\n",
       "    <tr>\n",
       "      <th>max</th>\n",
       "      <td>100000000.000000</td>\n",
       "      <td>True</td>\n",
       "      <td>1.433097e+09</td>\n",
       "      <td>1.433097e+09</td>\n",
       "      <td>1.432325e+09</td>\n",
       "      <td>1.432658e+09</td>\n",
       "      <td>219382.000000</td>\n",
       "      <td>1.000000</td>\n",
       "    </tr>\n",
       "  </tbody>\n",
       "</table>\n",
       "</div>"
      ],
      "text/plain": [
       "                   goal disable_communication      deadline  state_changed_at  \\\n",
       "count     108129.000000                108129  1.081290e+05      1.081290e+05   \n",
       "mean       36726.228833            0.00298717  1.380248e+09      1.380153e+09   \n",
       "std       971902.705156             0.0545736  4.270222e+07      4.266402e+07   \n",
       "min            0.010000                 False  1.241334e+09      1.241334e+09   \n",
       "25%         2000.000000                     0  1.346732e+09      1.346695e+09   \n",
       "50%         5000.000000                     0  1.393628e+09      1.393567e+09   \n",
       "75%        13000.000000                     0  1.415719e+09      1.415548e+09   \n",
       "max    100000000.000000                  True  1.433097e+09      1.433097e+09   \n",
       "\n",
       "         created_at   launched_at  backers_count   final_status  \n",
       "count  1.081290e+05  1.081290e+05  108129.000000  108129.000000  \n",
       "mean   1.374037e+09  1.377299e+09     123.516661       0.319627  \n",
       "std    4.272310e+07  4.294421e+07    1176.745162       0.466334  \n",
       "min    1.240335e+09  1.240603e+09       0.000000       0.000000  \n",
       "25%    1.340058e+09  1.343917e+09       2.000000       0.000000  \n",
       "50%    1.384445e+09  1.390870e+09      17.000000       0.000000  \n",
       "75%    1.409623e+09  1.412807e+09      65.000000       1.000000  \n",
       "max    1.432325e+09  1.432658e+09  219382.000000       1.000000  "
      ]
     },
     "execution_count": 4,
     "metadata": {},
     "output_type": "execute_result"
    }
   ],
   "source": [
    "train.describe()"
   ]
  },
  {
   "cell_type": "code",
   "execution_count": 5,
   "metadata": {},
   "outputs": [
    {
     "name": "stdout",
     "output_type": "stream",
     "text": [
      "<class 'pandas.core.frame.DataFrame'>\n",
      "Int64Index: 108129 entries, 0 to 108128\n",
      "Data columns (total 14 columns):\n",
      "project_id               108129 non-null object\n",
      "name                     108128 non-null object\n",
      "desc                     108121 non-null object\n",
      "goal                     108129 non-null float64\n",
      "keywords                 108129 non-null object\n",
      "disable_communication    108129 non-null bool\n",
      "country                  108129 non-null object\n",
      "currency                 108129 non-null object\n",
      "deadline                 108129 non-null int64\n",
      "state_changed_at         108129 non-null int64\n",
      "created_at               108129 non-null int64\n",
      "launched_at              108129 non-null int64\n",
      "backers_count            108129 non-null int64\n",
      "final_status             108129 non-null int64\n",
      "dtypes: bool(1), float64(1), int64(6), object(6)\n",
      "memory usage: 11.7+ MB\n"
     ]
    }
   ],
   "source": [
    "train.info()"
   ]
  },
  {
   "cell_type": "code",
   "execution_count": 6,
   "metadata": {},
   "outputs": [],
   "source": [
    "train = train.drop(['name','desc','keywords'],axis=1)      # These columns are not useful for our purposes\n"
   ]
  },
  {
   "cell_type": "code",
   "execution_count": 7,
   "metadata": {},
   "outputs": [
    {
     "data": {
      "text/html": [
       "<div>\n",
       "<table border=\"1\" class=\"dataframe\">\n",
       "  <thead>\n",
       "    <tr style=\"text-align: right;\">\n",
       "      <th></th>\n",
       "      <th>project_id</th>\n",
       "      <th>goal</th>\n",
       "      <th>disable_communication</th>\n",
       "      <th>country</th>\n",
       "      <th>currency</th>\n",
       "      <th>deadline</th>\n",
       "      <th>state_changed_at</th>\n",
       "      <th>created_at</th>\n",
       "      <th>launched_at</th>\n",
       "      <th>backers_count</th>\n",
       "      <th>final_status</th>\n",
       "    </tr>\n",
       "  </thead>\n",
       "  <tbody>\n",
       "    <tr>\n",
       "      <th>0</th>\n",
       "      <td>kkst1451568084</td>\n",
       "      <td>20</td>\n",
       "      <td>False</td>\n",
       "      <td>US</td>\n",
       "      <td>USD</td>\n",
       "      <td>1241333999</td>\n",
       "      <td>1241334017</td>\n",
       "      <td>1240600507</td>\n",
       "      <td>1240602723</td>\n",
       "      <td>3</td>\n",
       "      <td>1</td>\n",
       "    </tr>\n",
       "    <tr>\n",
       "      <th>1</th>\n",
       "      <td>kkst1474482071</td>\n",
       "      <td>300</td>\n",
       "      <td>False</td>\n",
       "      <td>US</td>\n",
       "      <td>USD</td>\n",
       "      <td>1242429000</td>\n",
       "      <td>1242432018</td>\n",
       "      <td>1240960224</td>\n",
       "      <td>1240975592</td>\n",
       "      <td>2</td>\n",
       "      <td>0</td>\n",
       "    </tr>\n",
       "    <tr>\n",
       "      <th>2</th>\n",
       "      <td>kkst183622197</td>\n",
       "      <td>30</td>\n",
       "      <td>False</td>\n",
       "      <td>US</td>\n",
       "      <td>USD</td>\n",
       "      <td>1243027560</td>\n",
       "      <td>1243027818</td>\n",
       "      <td>1242163613</td>\n",
       "      <td>1242164398</td>\n",
       "      <td>0</td>\n",
       "      <td>0</td>\n",
       "    </tr>\n",
       "    <tr>\n",
       "      <th>3</th>\n",
       "      <td>kkst597742710</td>\n",
       "      <td>500</td>\n",
       "      <td>False</td>\n",
       "      <td>US</td>\n",
       "      <td>USD</td>\n",
       "      <td>1243555740</td>\n",
       "      <td>1243556121</td>\n",
       "      <td>1240963795</td>\n",
       "      <td>1240966730</td>\n",
       "      <td>18</td>\n",
       "      <td>1</td>\n",
       "    </tr>\n",
       "    <tr>\n",
       "      <th>4</th>\n",
       "      <td>kkst1913131122</td>\n",
       "      <td>2000</td>\n",
       "      <td>False</td>\n",
       "      <td>US</td>\n",
       "      <td>USD</td>\n",
       "      <td>1243769880</td>\n",
       "      <td>1243770317</td>\n",
       "      <td>1241177914</td>\n",
       "      <td>1241180541</td>\n",
       "      <td>1</td>\n",
       "      <td>0</td>\n",
       "    </tr>\n",
       "  </tbody>\n",
       "</table>\n",
       "</div>"
      ],
      "text/plain": [
       "       project_id  goal disable_communication country currency    deadline  \\\n",
       "0  kkst1451568084    20                 False      US      USD  1241333999   \n",
       "1  kkst1474482071   300                 False      US      USD  1242429000   \n",
       "2   kkst183622197    30                 False      US      USD  1243027560   \n",
       "3   kkst597742710   500                 False      US      USD  1243555740   \n",
       "4  kkst1913131122  2000                 False      US      USD  1243769880   \n",
       "\n",
       "   state_changed_at  created_at  launched_at  backers_count  final_status  \n",
       "0        1241334017  1240600507   1240602723              3             1  \n",
       "1        1242432018  1240960224   1240975592              2             0  \n",
       "2        1243027818  1242163613   1242164398              0             0  \n",
       "3        1243556121  1240963795   1240966730             18             1  \n",
       "4        1243770317  1241177914   1241180541              1             0  "
      ]
     },
     "execution_count": 7,
     "metadata": {},
     "output_type": "execute_result"
    }
   ],
   "source": [
    "train.head()"
   ]
  },
  {
   "cell_type": "code",
   "execution_count": 8,
   "metadata": {},
   "outputs": [
    {
     "data": {
      "text/plain": [
       "array(['US', 'GB', 'CA', 'AU', 'NZ', 'NL', 'SE', 'IE', 'NO', 'DK', 'DE'],\n",
       "      dtype=object)"
      ]
     },
     "execution_count": 8,
     "metadata": {},
     "output_type": "execute_result"
    }
   ],
   "source": [
    "train['country'].unique()"
   ]
  },
  {
   "cell_type": "code",
   "execution_count": 9,
   "metadata": {},
   "outputs": [
    {
     "data": {
      "text/plain": [
       "array(['USD', 'GBP', 'CAD', 'AUD', 'NZD', 'EUR', 'SEK', 'NOK', 'DKK'],\n",
       "      dtype=object)"
      ]
     },
     "execution_count": 9,
     "metadata": {},
     "output_type": "execute_result"
    }
   ],
   "source": [
    "train['currency'].unique()"
   ]
  },
  {
   "cell_type": "code",
   "execution_count": 10,
   "metadata": {},
   "outputs": [],
   "source": [
    "train = train.drop(['project_id'],axis=1)      # These columns are not useful for our purposes\n"
   ]
  },
  {
   "cell_type": "code",
   "execution_count": 11,
   "metadata": {},
   "outputs": [
    {
     "data": {
      "text/plain": [
       "<matplotlib.axes._subplots.AxesSubplot at 0x7ff3d5ca9bd0>"
      ]
     },
     "execution_count": 11,
     "metadata": {},
     "output_type": "execute_result"
    },
    {
     "data": {
      "image/png": "[encoded data removed]",
      "text/plain": [
       "<matplotlib.figure.Figure at 0x7ff3d5ca9d10>"
      ]
     },
     "metadata": {},
     "output_type": "display_data"
    }
   ],
   "source": [
    "sns.heatmap(train.isnull())"
   ]
  },
  {
   "cell_type": "code",
   "execution_count": 12,
   "metadata": {},
   "outputs": [
    {
     "name": "stdout",
     "output_type": "stream",
     "text": [
      "<class 'pandas.core.frame.DataFrame'>\n",
      "Int64Index: 108129 entries, 0 to 108128\n",
      "Data columns (total 10 columns):\n",
      "goal                     108129 non-null float64\n",
      "disable_communication    108129 non-null bool\n",
      "country                  108129 non-null object\n",
      "currency                 108129 non-null object\n",
      "deadline                 108129 non-null int64\n",
      "state_changed_at         108129 non-null int64\n",
      "created_at               108129 non-null int64\n",
      "launched_at              108129 non-null int64\n",
      "backers_count            108129 non-null int64\n",
      "final_status             108129 non-null int64\n",
      "dtypes: bool(1), float64(1), int64(6), object(2)\n",
      "memory usage: 8.4+ MB\n"
     ]
    }
   ],
   "source": [
    "train.info()"
   ]
  },
  {
   "cell_type": "code",
   "execution_count": 13,
   "metadata": {},
   "outputs": [
    {
     "data": {
      "text/plain": [
       "<matplotlib.axes._subplots.AxesSubplot at 0x7ff3d5b079d0>"
      ]
     },
     "execution_count": 13,
     "metadata": {},
     "output_type": "execute_result"
    },
    {
     "data": {
      "image/png": "[encoded data removed]",
      "text/plain": [
       "<matplotlib.figure.Figure at 0x7ff3d5b0c690>"
      ]
     },
     "metadata": {},
     "output_type": "display_data"
    }
   ],
   "source": [
    "sns.countplot(x='final_status', hue='disable_communication',data=train)"
   ]
  },
  {
   "cell_type": "code",
   "execution_count": 14,
   "metadata": {},
   "outputs": [
    {
     "data": {
      "text/plain": [
       "0    73568\n",
       "1    34561\n",
       "Name: final_status, dtype: int64"
      ]
     },
     "execution_count": 14,
     "metadata": {},
     "output_type": "execute_result"
    }
   ],
   "source": [
    "train['final_status'].value_counts()"
   ]
  },
  {
   "cell_type": "code",
   "execution_count": 15,
   "metadata": {},
   "outputs": [],
   "source": [
    "import datetime\n",
    "def deadlines(s):\n",
    "    a = str(s)\n",
    "    return (\n",
    "      datetime.datetime.fromtimestamp(\n",
    "          int(a)\n",
    "       ).strftime('%Y-%m-%d %H:%M:%S')\n",
    "     )\n"
   ]
  },
  {
   "cell_type": "code",
   "execution_count": 16,
   "metadata": {},
   "outputs": [
    {
     "name": "stdout",
     "output_type": "stream",
     "text": [
      "0              18\n",
      "1            3018\n",
      "2             258\n",
      "3             381\n",
      "4             437\n",
      "5             619\n",
      "6              28\n",
      "7              22\n",
      "8              22\n",
      "9              92\n",
      "10            561\n",
      "11             28\n",
      "12            319\n",
      "13             31\n",
      "14            260\n",
      "15             89\n",
      "16            271\n",
      "17            801\n",
      "18             54\n",
      "19             40\n",
      "20             52\n",
      "21            512\n",
      "22            169\n",
      "23             28\n",
      "24            511\n",
      "25             93\n",
      "26            320\n",
      "27            324\n",
      "28            449\n",
      "29             37\n",
      "           ...   \n",
      "108099          1\n",
      "108100          1\n",
      "108101          1\n",
      "108102          3\n",
      "108103          4\n",
      "108104          1\n",
      "108105          2\n",
      "108106          3\n",
      "108107          2\n",
      "108108   -1735623\n",
      "108109          4\n",
      "108110          4\n",
      "108111          3\n",
      "108112          3\n",
      "108113          2\n",
      "108114          3\n",
      "108115          3\n",
      "108116          2\n",
      "108117          3\n",
      "108118          2\n",
      "108119          4\n",
      "108120          2\n",
      "108121         51\n",
      "108122         12\n",
      "108123          0\n",
      "108124          3\n",
      "108125          1\n",
      "108126          3\n",
      "108127          4\n",
      "108128          2\n",
      "dtype: int64\n"
     ]
    }
   ],
   "source": [
    "print(train['state_changed_at']-train['deadline'])"
   ]
  },
  {
   "cell_type": "code",
   "execution_count": 17,
   "metadata": {},
   "outputs": [
    {
     "name": "stdout",
     "output_type": "stream",
     "text": [
      "0             2216\n",
      "1            15368\n",
      "2              785\n",
      "3             2935\n",
      "4             2627\n",
      "5           413669\n",
      "6            11136\n",
      "7             9750\n",
      "8            65737\n",
      "9             5303\n",
      "10          226718\n",
      "11            5744\n",
      "12            5358\n",
      "13            4711\n",
      "14          261158\n",
      "15            7884\n",
      "16          162989\n",
      "17            8369\n",
      "18           88559\n",
      "19          344154\n",
      "20            2669\n",
      "21            1764\n",
      "22          104853\n",
      "23            3904\n",
      "24          114145\n",
      "25           72505\n",
      "26           12467\n",
      "27           10414\n",
      "28          181521\n",
      "29            4189\n",
      "            ...   \n",
      "108099     1554220\n",
      "108100     1214495\n",
      "108101     4541198\n",
      "108102      685530\n",
      "108103      557556\n",
      "108104      459107\n",
      "108105    26510245\n",
      "108106     3359550\n",
      "108107       70493\n",
      "108108        1855\n",
      "108109      565075\n",
      "108110      237951\n",
      "108111       92617\n",
      "108112    32448711\n",
      "108113        9181\n",
      "108114        1603\n",
      "108115       76856\n",
      "108116     1367665\n",
      "108117      776121\n",
      "108118        2731\n",
      "108119    60755467\n",
      "108120        2502\n",
      "108121       15721\n",
      "108122    12790994\n",
      "108123      928238\n",
      "108124     1121344\n",
      "108125        4185\n",
      "108126       83770\n",
      "108127      349133\n",
      "108128       64506\n",
      "dtype: int64\n"
     ]
    }
   ],
   "source": [
    "print(train['launched_at']-train['created_at'])"
   ]
  },
  {
   "cell_type": "code",
   "execution_count": 18,
   "metadata": {},
   "outputs": [],
   "source": [
    "train['dead_diff'] = (train['state_changed_at']-train['deadline'])"
   ]
  },
  {
   "cell_type": "code",
   "execution_count": 19,
   "metadata": {},
   "outputs": [
    {
     "name": "stdout",
     "output_type": "stream",
     "text": [
      "The skewness of deadline is -5.06094459543\n"
     ]
    }
   ],
   "source": [
    "print(\"The skewness of deadline is {}\".format(train['dead_diff'].skew()))"
   ]
  },
  {
   "cell_type": "code",
   "execution_count": 20,
   "metadata": {},
   "outputs": [],
   "source": [
    "train['deploy_diff'] = (train['launched_at']-train['created_at'])"
   ]
  },
  {
   "cell_type": "code",
   "execution_count": 21,
   "metadata": {},
   "outputs": [
    {
     "name": "stdout",
     "output_type": "stream",
     "text": [
      "The skewness of deployment is 5.91217874854\n"
     ]
    }
   ],
   "source": [
    "print(\"The skewness of deployment is {}\".format(train['deploy_diff'].skew()))"
   ]
  },
  {
   "cell_type": "code",
   "execution_count": 22,
   "metadata": {},
   "outputs": [
    {
     "data": {
      "text/html": [
       "<div>\n",
       "<table border=\"1\" class=\"dataframe\">\n",
       "  <thead>\n",
       "    <tr style=\"text-align: right;\">\n",
       "      <th></th>\n",
       "      <th>disable_communication</th>\n",
       "    </tr>\n",
       "  </thead>\n",
       "  <tbody>\n",
       "    <tr>\n",
       "      <th>count</th>\n",
       "      <td>108129</td>\n",
       "    </tr>\n",
       "    <tr>\n",
       "      <th>mean</th>\n",
       "      <td>0.00298717</td>\n",
       "    </tr>\n",
       "    <tr>\n",
       "      <th>std</th>\n",
       "      <td>0.0545736</td>\n",
       "    </tr>\n",
       "    <tr>\n",
       "      <th>min</th>\n",
       "      <td>False</td>\n",
       "    </tr>\n",
       "    <tr>\n",
       "      <th>25%</th>\n",
       "      <td>0</td>\n",
       "    </tr>\n",
       "    <tr>\n",
       "      <th>50%</th>\n",
       "      <td>0</td>\n",
       "    </tr>\n",
       "    <tr>\n",
       "      <th>75%</th>\n",
       "      <td>0</td>\n",
       "    </tr>\n",
       "    <tr>\n",
       "      <th>max</th>\n",
       "      <td>True</td>\n",
       "    </tr>\n",
       "  </tbody>\n",
       "</table>\n",
       "</div>"
      ],
      "text/plain": [
       "      disable_communication\n",
       "count                108129\n",
       "mean             0.00298717\n",
       "std               0.0545736\n",
       "min                   False\n",
       "25%                       0\n",
       "50%                       0\n",
       "75%                       0\n",
       "max                    True"
      ]
     },
     "execution_count": 22,
     "metadata": {},
     "output_type": "execute_result"
    }
   ],
   "source": [
    "#non-numeric features\n",
    "\n",
    "categoricals = train.select_dtypes(exclude=[np.number])\n",
    "categoricals.describe()"
   ]
  },
  {
   "cell_type": "code",
   "execution_count": 23,
   "metadata": {},
   "outputs": [
    {
     "name": "stdout",
     "output_type": "stream",
     "text": [
      "('Skew is:', -5.060944595425974)\n"
     ]
    },
    {
     "data": {
      "image/png": "[encoded data removed]",
      "text/plain": [
       "<matplotlib.figure.Figure at 0x7ff3d5c794d0>"
      ]
     },
     "metadata": {},
     "output_type": "display_data"
    }
   ],
   "source": [
    "#Skewed Distribution\n",
    "print(\"Skew is:\", train.dead_diff.skew())\n",
    "plt.hist(train.dead_diff, color = 'blue')\n",
    "plt.show()"
   ]
  },
  {
   "cell_type": "code",
   "execution_count": 24,
   "metadata": {},
   "outputs": [
    {
     "name": "stdout",
     "output_type": "stream",
     "text": [
      "('Skew is:', 5.912178748538801)\n"
     ]
    },
    {
     "data": {
      "image/png": "[encoded data removed]",
      "text/plain": [
       "<matplotlib.figure.Figure at 0x7ff3d2c1b810>"
      ]
     },
     "metadata": {},
     "output_type": "display_data"
    }
   ],
   "source": [
    "#Skewed Distribution\n",
    "print(\"Skew is:\", train.deploy_diff.skew())\n",
    "plt.hist(train.deploy_diff, color = 'blue')\n",
    "plt.show()"
   ]
  },
  {
   "cell_type": "code",
   "execution_count": 25,
   "metadata": {},
   "outputs": [
    {
     "data": {
      "text/plain": [
       "<matplotlib.collections.PathCollection at 0x7ff3d2aaf1d0>"
      ]
     },
     "execution_count": 25,
     "metadata": {},
     "output_type": "execute_result"
    },
    {
     "data": {
      "image/png": "[encoded data removed]",
      "text/plain": [
       "<matplotlib.figure.Figure at 0x7ff3d2bf5310>"
      ]
     },
     "metadata": {},
     "output_type": "display_data"
    }
   ],
   "source": [
    "plt.scatter(x=train['dead_diff'],y=train['deploy_diff'],color='indianred')"
   ]
  },
  {
   "cell_type": "code",
   "execution_count": 26,
   "metadata": {},
   "outputs": [
    {
     "data": {
      "text/plain": [
       "<matplotlib.axes._subplots.AxesSubplot at 0x7ff3d2ae5050>"
      ]
     },
     "execution_count": 26,
     "metadata": {},
     "output_type": "execute_result"
    },
    {
     "data": {
      "image/png": "[encoded data removed]",
      "text/plain": [
       "<matplotlib.figure.Figure at 0x7ff3d2abd890>"
      ]
     },
     "metadata": {},
     "output_type": "display_data"
    }
   ],
   "source": [
    "train.plot.scatter(x='final_status',y='backers_count')"
   ]
  },
  {
   "cell_type": "code",
   "execution_count": 27,
   "metadata": {},
   "outputs": [
    {
     "data": {
      "text/plain": [
       "123.51666065532835"
      ]
     },
     "execution_count": 27,
     "metadata": {},
     "output_type": "execute_result"
    }
   ],
   "source": [
    "train['backers_count'].mean()"
   ]
  },
  {
   "cell_type": "code",
   "execution_count": 28,
   "metadata": {},
   "outputs": [],
   "source": [
    "from sklearn.linear_model import LogisticRegression\n",
    "from sklearn.svm import SVC\n",
    "from sklearn.ensemble import RandomForestClassifier\n",
    "from sklearn.neighbors import KNeighborsClassifier\n"
   ]
  },
  {
   "cell_type": "code",
   "execution_count": 29,
   "metadata": {},
   "outputs": [
    {
     "data": {
      "text/html": [
       "<div>\n",
       "<table border=\"1\" class=\"dataframe\">\n",
       "  <thead>\n",
       "    <tr style=\"text-align: right;\">\n",
       "      <th></th>\n",
       "      <th>project_id</th>\n",
       "      <th>name</th>\n",
       "      <th>desc</th>\n",
       "      <th>goal</th>\n",
       "      <th>keywords</th>\n",
       "      <th>disable_communication</th>\n",
       "      <th>country</th>\n",
       "      <th>currency</th>\n",
       "      <th>deadline</th>\n",
       "      <th>state_changed_at</th>\n",
       "      <th>created_at</th>\n",
       "      <th>launched_at</th>\n",
       "    </tr>\n",
       "  </thead>\n",
       "  <tbody>\n",
       "    <tr>\n",
       "      <th>0</th>\n",
       "      <td>kkst917493670</td>\n",
       "      <td>Bràthair.</td>\n",
       "      <td>My first film, of many to come. Trying to purs...</td>\n",
       "      <td>7000</td>\n",
       "      <td>brathair</td>\n",
       "      <td>False</td>\n",
       "      <td>US</td>\n",
       "      <td>USD</td>\n",
       "      <td>1449619185</td>\n",
       "      <td>1449619185</td>\n",
       "      <td>1446002581</td>\n",
       "      <td>1446159585</td>\n",
       "    </tr>\n",
       "    <tr>\n",
       "      <th>1</th>\n",
       "      <td>kkst1664901914</td>\n",
       "      <td>THE SCREENWRITER</td>\n",
       "      <td>A young man that has earned his master's in sc...</td>\n",
       "      <td>35000</td>\n",
       "      <td>the-screenwriter</td>\n",
       "      <td>False</td>\n",
       "      <td>US</td>\n",
       "      <td>USD</td>\n",
       "      <td>1453435620</td>\n",
       "      <td>1453435620</td>\n",
       "      <td>1450297323</td>\n",
       "      <td>1450411620</td>\n",
       "    </tr>\n",
       "    <tr>\n",
       "      <th>2</th>\n",
       "      <td>kkst925125077</td>\n",
       "      <td>The Hornets Nest the Fairmont Heights Story</td>\n",
       "      <td>Film about a high school constructed for negro...</td>\n",
       "      <td>49500</td>\n",
       "      <td>the-hornets-nest-the-fairmont-heights-story</td>\n",
       "      <td>False</td>\n",
       "      <td>US</td>\n",
       "      <td>USD</td>\n",
       "      <td>1451780700</td>\n",
       "      <td>1451780700</td>\n",
       "      <td>1448581356</td>\n",
       "      <td>1448672128</td>\n",
       "    </tr>\n",
       "    <tr>\n",
       "      <th>3</th>\n",
       "      <td>kkst1427645275</td>\n",
       "      <td>BROTHERS Season 2 - Groundbreaking Transgender...</td>\n",
       "      <td>The acclaimed series about a group of transgen...</td>\n",
       "      <td>40000</td>\n",
       "      <td>brothers-season-2-groundbreaking-transgender-male</td>\n",
       "      <td>False</td>\n",
       "      <td>US</td>\n",
       "      <td>USD</td>\n",
       "      <td>1445021518</td>\n",
       "      <td>1445021530</td>\n",
       "      <td>1440966830</td>\n",
       "      <td>1442429518</td>\n",
       "    </tr>\n",
       "    <tr>\n",
       "      <th>4</th>\n",
       "      <td>kkst1714249266</td>\n",
       "      <td>Blackdom the movie</td>\n",
       "      <td>Blackdom's history offers  a new narrative tha...</td>\n",
       "      <td>20000</td>\n",
       "      <td>blackdom-the-movie</td>\n",
       "      <td>False</td>\n",
       "      <td>US</td>\n",
       "      <td>USD</td>\n",
       "      <td>1462068840</td>\n",
       "      <td>1462068844</td>\n",
       "      <td>1455765276</td>\n",
       "      <td>1458334890</td>\n",
       "    </tr>\n",
       "  </tbody>\n",
       "</table>\n",
       "</div>"
      ],
      "text/plain": [
       "       project_id                                               name  \\\n",
       "0   kkst917493670                                          Bràthair.   \n",
       "1  kkst1664901914                                   THE SCREENWRITER   \n",
       "2   kkst925125077        The Hornets Nest the Fairmont Heights Story   \n",
       "3  kkst1427645275  BROTHERS Season 2 - Groundbreaking Transgender...   \n",
       "4  kkst1714249266                                 Blackdom the movie   \n",
       "\n",
       "                                                desc   goal  \\\n",
       "0  My first film, of many to come. Trying to purs...   7000   \n",
       "1  A young man that has earned his master's in sc...  35000   \n",
       "2  Film about a high school constructed for negro...  49500   \n",
       "3  The acclaimed series about a group of transgen...  40000   \n",
       "4  Blackdom's history offers  a new narrative tha...  20000   \n",
       "\n",
       "                                            keywords disable_communication  \\\n",
       "0                                           brathair                 False   \n",
       "1                                   the-screenwriter                 False   \n",
       "2        the-hornets-nest-the-fairmont-heights-story                 False   \n",
       "3  brothers-season-2-groundbreaking-transgender-male                 False   \n",
       "4                                 blackdom-the-movie                 False   \n",
       "\n",
       "  country currency    deadline  state_changed_at  created_at  launched_at  \n",
       "0      US      USD  1449619185        1449619185  1446002581   1446159585  \n",
       "1      US      USD  1453435620        1453435620  1450297323   1450411620  \n",
       "2      US      USD  1451780700        1451780700  1448581356   1448672128  \n",
       "3      US      USD  1445021518        1445021530  1440966830   1442429518  \n",
       "4      US      USD  1462068840        1462068844  1455765276   1458334890  "
      ]
     },
     "execution_count": 29,
     "metadata": {},
     "output_type": "execute_result"
    }
   ],
   "source": [
    "test.head()"
   ]
  },
  {
   "cell_type": "code",
   "execution_count": 30,
   "metadata": {},
   "outputs": [
    {
     "data": {
      "text/plain": [
       "Index([u'project_id', u'name', u'desc', u'goal', u'keywords',\n",
       "       u'disable_communication', u'country', u'currency', u'deadline',\n",
       "       u'state_changed_at', u'created_at', u'launched_at'],\n",
       "      dtype='object')"
      ]
     },
     "execution_count": 30,
     "metadata": {},
     "output_type": "execute_result"
    }
   ],
   "source": [
    "test.columns"
   ]
  },
  {
   "cell_type": "code",
   "execution_count": 31,
   "metadata": {},
   "outputs": [
    {
     "data": {
      "text/html": [
       "<div>\n",
       "<table border=\"1\" class=\"dataframe\">\n",
       "  <thead>\n",
       "    <tr style=\"text-align: right;\">\n",
       "      <th></th>\n",
       "      <th>goal</th>\n",
       "      <th>disable_communication</th>\n",
       "      <th>deadline</th>\n",
       "      <th>state_changed_at</th>\n",
       "      <th>created_at</th>\n",
       "      <th>launched_at</th>\n",
       "    </tr>\n",
       "  </thead>\n",
       "  <tbody>\n",
       "    <tr>\n",
       "      <th>count</th>\n",
       "      <td>63465.000000</td>\n",
       "      <td>63465</td>\n",
       "      <td>6.346500e+04</td>\n",
       "      <td>6.346500e+04</td>\n",
       "      <td>6.346500e+04</td>\n",
       "      <td>6.346500e+04</td>\n",
       "    </tr>\n",
       "    <tr>\n",
       "      <th>mean</th>\n",
       "      <td>35323.719263</td>\n",
       "      <td>0.00545182</td>\n",
       "      <td>1.459009e+09</td>\n",
       "      <td>1.458278e+09</td>\n",
       "      <td>1.451771e+09</td>\n",
       "      <td>1.456135e+09</td>\n",
       "    </tr>\n",
       "    <tr>\n",
       "      <th>std</th>\n",
       "      <td>1206678.060661</td>\n",
       "      <td>0.0736355</td>\n",
       "      <td>1.638850e+07</td>\n",
       "      <td>1.571211e+07</td>\n",
       "      <td>1.983827e+07</td>\n",
       "      <td>1.641921e+07</td>\n",
       "    </tr>\n",
       "    <tr>\n",
       "      <th>min</th>\n",
       "      <td>1.000000</td>\n",
       "      <td>False</td>\n",
       "      <td>1.433117e+09</td>\n",
       "      <td>1.428069e+09</td>\n",
       "      <td>1.266343e+09</td>\n",
       "      <td>1.427940e+09</td>\n",
       "    </tr>\n",
       "    <tr>\n",
       "      <th>25%</th>\n",
       "      <td>2000.000000</td>\n",
       "      <td>0</td>\n",
       "      <td>1.444522e+09</td>\n",
       "      <td>1.444419e+09</td>\n",
       "      <td>1.438098e+09</td>\n",
       "      <td>1.441756e+09</td>\n",
       "    </tr>\n",
       "    <tr>\n",
       "      <th>50%</th>\n",
       "      <td>6000.000000</td>\n",
       "      <td>0</td>\n",
       "      <td>1.458415e+09</td>\n",
       "      <td>1.458254e+09</td>\n",
       "      <td>1.452243e+09</td>\n",
       "      <td>1.455635e+09</td>\n",
       "    </tr>\n",
       "    <tr>\n",
       "      <th>75%</th>\n",
       "      <td>20000.000000</td>\n",
       "      <td>0</td>\n",
       "      <td>1.472587e+09</td>\n",
       "      <td>1.470672e+09</td>\n",
       "      <td>1.466366e+09</td>\n",
       "      <td>1.469650e+09</td>\n",
       "    </tr>\n",
       "    <tr>\n",
       "      <th>max</th>\n",
       "      <td>100000000.000000</td>\n",
       "      <td>True</td>\n",
       "      <td>1.490916e+09</td>\n",
       "      <td>1.490915e+09</td>\n",
       "      <td>1.490228e+09</td>\n",
       "      <td>1.490297e+09</td>\n",
       "    </tr>\n",
       "  </tbody>\n",
       "</table>\n",
       "</div>"
      ],
      "text/plain": [
       "                   goal disable_communication      deadline  state_changed_at  \\\n",
       "count      63465.000000                 63465  6.346500e+04      6.346500e+04   \n",
       "mean       35323.719263            0.00545182  1.459009e+09      1.458278e+09   \n",
       "std      1206678.060661             0.0736355  1.638850e+07      1.571211e+07   \n",
       "min            1.000000                 False  1.433117e+09      1.428069e+09   \n",
       "25%         2000.000000                     0  1.444522e+09      1.444419e+09   \n",
       "50%         6000.000000                     0  1.458415e+09      1.458254e+09   \n",
       "75%        20000.000000                     0  1.472587e+09      1.470672e+09   \n",
       "max    100000000.000000                  True  1.490916e+09      1.490915e+09   \n",
       "\n",
       "         created_at   launched_at  \n",
       "count  6.346500e+04  6.346500e+04  \n",
       "mean   1.451771e+09  1.456135e+09  \n",
       "std    1.983827e+07  1.641921e+07  \n",
       "min    1.266343e+09  1.427940e+09  \n",
       "25%    1.438098e+09  1.441756e+09  \n",
       "50%    1.452243e+09  1.455635e+09  \n",
       "75%    1.466366e+09  1.469650e+09  \n",
       "max    1.490228e+09  1.490297e+09  "
      ]
     },
     "execution_count": 31,
     "metadata": {},
     "output_type": "execute_result"
    }
   ],
   "source": [
    "test.describe()"
   ]
  },
  {
   "cell_type": "code",
   "execution_count": 32,
   "metadata": {},
   "outputs": [
    {
     "name": "stdout",
     "output_type": "stream",
     "text": [
      "<class 'pandas.core.frame.DataFrame'>\n",
      "Int64Index: 63465 entries, 0 to 63464\n",
      "Data columns (total 12 columns):\n",
      "project_id               63465 non-null object\n",
      "name                     63465 non-null object\n",
      "desc                     63461 non-null object\n",
      "goal                     63465 non-null float64\n",
      "keywords                 63465 non-null object\n",
      "disable_communication    63465 non-null bool\n",
      "country                  63465 non-null object\n",
      "currency                 63465 non-null object\n",
      "deadline                 63465 non-null int64\n",
      "state_changed_at         63465 non-null int64\n",
      "created_at               63465 non-null int64\n",
      "launched_at              63465 non-null int64\n",
      "dtypes: bool(1), float64(1), int64(4), object(6)\n",
      "memory usage: 5.9+ MB\n"
     ]
    }
   ],
   "source": [
    "test.info()"
   ]
  },
  {
   "cell_type": "code",
   "execution_count": 33,
   "metadata": {},
   "outputs": [
    {
     "data": {
      "text/plain": [
       "((108129, 5), (108129,), (63465, 5), (63465,))"
      ]
     },
     "execution_count": 33,
     "metadata": {},
     "output_type": "execute_result"
    }
   ],
   "source": [
    "X_train = train[['deadline','state_changed_at','created_at','launched_at','goal']]\n",
    "Y_train = train['final_status']\n",
    "\n",
    "X_test = test[['deadline','state_changed_at','created_at','launched_at','goal']]\n",
    "\n",
    "#index\n",
    "idx = test['project_id']\n",
    "\n",
    "X_train.shape , Y_train.shape ,X_test.shape, idx.shape"
   ]
  },
  {
   "cell_type": "code",
   "execution_count": 34,
   "metadata": {},
   "outputs": [
    {
     "name": "stdout",
     "output_type": "stream",
     "text": [
      "('training score is : \\n', 0.6800488305634936)\n",
      "[0 0 0 ... 0 0 0]\n"
     ]
    }
   ],
   "source": [
    "model = LogisticRegression()\n",
    "# Train the model using the training sets and check score\n",
    "model.fit(X_train, Y_train)\n",
    "val=model.score(X_train, Y_train)\n",
    "#Equation coefficient and Intercept\n",
    "print('training score is : \\n',val)\n",
    "#Predict Output\n",
    "pred= model.predict(X_test)\n",
    "print(pred)"
   ]
  },
  {
   "cell_type": "code",
   "execution_count": 35,
   "metadata": {},
   "outputs": [
    {
     "name": "stdout",
     "output_type": "stream",
     "text": [
      "('Training score is :', 0.9999907517872171)\n",
      "[0 0 0 ... 0 0 0]\n"
     ]
    }
   ],
   "source": [
    "rf= RandomForestClassifier(n_estimators=100)\n",
    "rf.fit(X_train,Y_train)\n",
    "\n",
    "score_val = rf.score(X_train,Y_train)\n",
    "\n",
    "print(\"Training score is :\",score_val)\n",
    "\n",
    "out_rf = rf.predict(X_test)\n",
    "print(out_rf)"
   ]
  },
  {
   "cell_type": "code",
   "execution_count": 36,
   "metadata": {},
   "outputs": [],
   "source": [
    "submission = pd.DataFrame({\"project_id\":idx,\"final_status\":out_rf})\n",
    "\n",
    "submission.to_csv('sub_success.csv',index=False)"
   ]
  },
  {
   "cell_type": "code",
   "execution_count": 37,
   "metadata": {},
   "outputs": [],
   "source": [
    "submiss = pd.DataFrame()\n",
    "submiss['project_id'] = idx"
   ]
  },
  {
   "cell_type": "code",
   "execution_count": 45,
   "metadata": {},
   "outputs": [
    {
     "data": {
      "text/html": [
       "<div>\n",
       "<table border=\"1\" class=\"dataframe\">\n",
       "  <thead>\n",
       "    <tr style=\"text-align: right;\">\n",
       "      <th></th>\n",
       "      <th>project_id</th>\n",
       "      <th>final_status</th>\n",
       "    </tr>\n",
       "  </thead>\n",
       "  <tbody>\n",
       "    <tr>\n",
       "      <th>0</th>\n",
       "      <td>kkst917493670</td>\n",
       "      <td>0</td>\n",
       "    </tr>\n",
       "    <tr>\n",
       "      <th>1</th>\n",
       "      <td>kkst1664901914</td>\n",
       "      <td>0</td>\n",
       "    </tr>\n",
       "    <tr>\n",
       "      <th>2</th>\n",
       "      <td>kkst925125077</td>\n",
       "      <td>0</td>\n",
       "    </tr>\n",
       "    <tr>\n",
       "      <th>3</th>\n",
       "      <td>kkst1427645275</td>\n",
       "      <td>0</td>\n",
       "    </tr>\n",
       "    <tr>\n",
       "      <th>4</th>\n",
       "      <td>kkst1714249266</td>\n",
       "      <td>0</td>\n",
       "    </tr>\n",
       "  </tbody>\n",
       "</table>\n",
       "</div>"
      ],
      "text/plain": [
       "       project_id  final_status\n",
       "0   kkst917493670             0\n",
       "1  kkst1664901914             0\n",
       "2   kkst925125077             0\n",
       "3  kkst1427645275             0\n",
       "4  kkst1714249266             0"
      ]
     },
     "execution_count": 45,
     "metadata": {},
     "output_type": "execute_result"
    }
   ],
   "source": [
    "submiss['final_status'] = pred\n",
    "submiss.head()"
   ]
  },
  {
   "cell_type": "code",
   "execution_count": 39,
   "metadata": {
    "scrolled": true
   },
   "outputs": [
    {
     "data": {
      "text/html": [
       "<div>\n",
       "<table border=\"1\" class=\"dataframe\">\n",
       "  <thead>\n",
       "    <tr style=\"text-align: right;\">\n",
       "      <th></th>\n",
       "      <th>project_id</th>\n",
       "      <th>final_status</th>\n",
       "    </tr>\n",
       "  </thead>\n",
       "  <tbody>\n",
       "    <tr>\n",
       "      <th>0</th>\n",
       "      <td>kkst917493670</td>\n",
       "      <td>0</td>\n",
       "    </tr>\n",
       "    <tr>\n",
       "      <th>1</th>\n",
       "      <td>kkst1664901914</td>\n",
       "      <td>0</td>\n",
       "    </tr>\n",
       "    <tr>\n",
       "      <th>2</th>\n",
       "      <td>kkst925125077</td>\n",
       "      <td>0</td>\n",
       "    </tr>\n",
       "    <tr>\n",
       "      <th>3</th>\n",
       "      <td>kkst1427645275</td>\n",
       "      <td>0</td>\n",
       "    </tr>\n",
       "    <tr>\n",
       "      <th>4</th>\n",
       "      <td>kkst1714249266</td>\n",
       "      <td>0</td>\n",
       "    </tr>\n",
       "    <tr>\n",
       "      <th>5</th>\n",
       "      <td>kkst994744324</td>\n",
       "      <td>0</td>\n",
       "    </tr>\n",
       "    <tr>\n",
       "      <th>6</th>\n",
       "      <td>kkst366471810</td>\n",
       "      <td>0</td>\n",
       "    </tr>\n",
       "    <tr>\n",
       "      <th>7</th>\n",
       "      <td>kkst1686645245</td>\n",
       "      <td>1</td>\n",
       "    </tr>\n",
       "    <tr>\n",
       "      <th>8</th>\n",
       "      <td>kkst1009612119</td>\n",
       "      <td>0</td>\n",
       "    </tr>\n",
       "    <tr>\n",
       "      <th>9</th>\n",
       "      <td>kkst774947236</td>\n",
       "      <td>0</td>\n",
       "    </tr>\n",
       "    <tr>\n",
       "      <th>10</th>\n",
       "      <td>kkst751736613</td>\n",
       "      <td>0</td>\n",
       "    </tr>\n",
       "    <tr>\n",
       "      <th>11</th>\n",
       "      <td>kkst546487059</td>\n",
       "      <td>0</td>\n",
       "    </tr>\n",
       "    <tr>\n",
       "      <th>12</th>\n",
       "      <td>kkst184185617</td>\n",
       "      <td>0</td>\n",
       "    </tr>\n",
       "    <tr>\n",
       "      <th>13</th>\n",
       "      <td>kkst14737712</td>\n",
       "      <td>0</td>\n",
       "    </tr>\n",
       "    <tr>\n",
       "      <th>14</th>\n",
       "      <td>kkst1709731255</td>\n",
       "      <td>0</td>\n",
       "    </tr>\n",
       "    <tr>\n",
       "      <th>15</th>\n",
       "      <td>kkst677310901</td>\n",
       "      <td>0</td>\n",
       "    </tr>\n",
       "    <tr>\n",
       "      <th>16</th>\n",
       "      <td>kkst2017864312</td>\n",
       "      <td>0</td>\n",
       "    </tr>\n",
       "    <tr>\n",
       "      <th>17</th>\n",
       "      <td>kkst263053778</td>\n",
       "      <td>0</td>\n",
       "    </tr>\n",
       "    <tr>\n",
       "      <th>18</th>\n",
       "      <td>kkst515365696</td>\n",
       "      <td>0</td>\n",
       "    </tr>\n",
       "    <tr>\n",
       "      <th>19</th>\n",
       "      <td>kkst1399418181</td>\n",
       "      <td>0</td>\n",
       "    </tr>\n",
       "    <tr>\n",
       "      <th>20</th>\n",
       "      <td>kkst1923573285</td>\n",
       "      <td>0</td>\n",
       "    </tr>\n",
       "    <tr>\n",
       "      <th>21</th>\n",
       "      <td>kkst1835523556</td>\n",
       "      <td>0</td>\n",
       "    </tr>\n",
       "    <tr>\n",
       "      <th>22</th>\n",
       "      <td>kkst691313362</td>\n",
       "      <td>0</td>\n",
       "    </tr>\n",
       "    <tr>\n",
       "      <th>23</th>\n",
       "      <td>kkst1801490632</td>\n",
       "      <td>0</td>\n",
       "    </tr>\n",
       "    <tr>\n",
       "      <th>24</th>\n",
       "      <td>kkst1370169828</td>\n",
       "      <td>0</td>\n",
       "    </tr>\n",
       "    <tr>\n",
       "      <th>25</th>\n",
       "      <td>kkst69680953</td>\n",
       "      <td>0</td>\n",
       "    </tr>\n",
       "    <tr>\n",
       "      <th>26</th>\n",
       "      <td>kkst65991350</td>\n",
       "      <td>0</td>\n",
       "    </tr>\n",
       "    <tr>\n",
       "      <th>27</th>\n",
       "      <td>kkst533894809</td>\n",
       "      <td>0</td>\n",
       "    </tr>\n",
       "    <tr>\n",
       "      <th>28</th>\n",
       "      <td>kkst1416439353</td>\n",
       "      <td>0</td>\n",
       "    </tr>\n",
       "    <tr>\n",
       "      <th>29</th>\n",
       "      <td>kkst1728612166</td>\n",
       "      <td>0</td>\n",
       "    </tr>\n",
       "    <tr>\n",
       "      <th>...</th>\n",
       "      <td>...</td>\n",
       "      <td>...</td>\n",
       "    </tr>\n",
       "    <tr>\n",
       "      <th>63435</th>\n",
       "      <td>kkst2098627341</td>\n",
       "      <td>0</td>\n",
       "    </tr>\n",
       "    <tr>\n",
       "      <th>63436</th>\n",
       "      <td>kkst1803681768</td>\n",
       "      <td>0</td>\n",
       "    </tr>\n",
       "    <tr>\n",
       "      <th>63437</th>\n",
       "      <td>kkst1944372205</td>\n",
       "      <td>0</td>\n",
       "    </tr>\n",
       "    <tr>\n",
       "      <th>63438</th>\n",
       "      <td>kkst175165058</td>\n",
       "      <td>0</td>\n",
       "    </tr>\n",
       "    <tr>\n",
       "      <th>63439</th>\n",
       "      <td>kkst1206847840</td>\n",
       "      <td>0</td>\n",
       "    </tr>\n",
       "    <tr>\n",
       "      <th>63440</th>\n",
       "      <td>kkst2053271225</td>\n",
       "      <td>0</td>\n",
       "    </tr>\n",
       "    <tr>\n",
       "      <th>63441</th>\n",
       "      <td>kkst1170363987</td>\n",
       "      <td>0</td>\n",
       "    </tr>\n",
       "    <tr>\n",
       "      <th>63442</th>\n",
       "      <td>kkst1872082968</td>\n",
       "      <td>0</td>\n",
       "    </tr>\n",
       "    <tr>\n",
       "      <th>63443</th>\n",
       "      <td>kkst868147124</td>\n",
       "      <td>0</td>\n",
       "    </tr>\n",
       "    <tr>\n",
       "      <th>63444</th>\n",
       "      <td>kkst96793268</td>\n",
       "      <td>0</td>\n",
       "    </tr>\n",
       "    <tr>\n",
       "      <th>63445</th>\n",
       "      <td>kkst233040768</td>\n",
       "      <td>0</td>\n",
       "    </tr>\n",
       "    <tr>\n",
       "      <th>63446</th>\n",
       "      <td>kkst192706265</td>\n",
       "      <td>0</td>\n",
       "    </tr>\n",
       "    <tr>\n",
       "      <th>63447</th>\n",
       "      <td>kkst1648941684</td>\n",
       "      <td>0</td>\n",
       "    </tr>\n",
       "    <tr>\n",
       "      <th>63448</th>\n",
       "      <td>kkst454855107</td>\n",
       "      <td>1</td>\n",
       "    </tr>\n",
       "    <tr>\n",
       "      <th>63449</th>\n",
       "      <td>kkst1847337196</td>\n",
       "      <td>1</td>\n",
       "    </tr>\n",
       "    <tr>\n",
       "      <th>63450</th>\n",
       "      <td>kkst1970590230</td>\n",
       "      <td>0</td>\n",
       "    </tr>\n",
       "    <tr>\n",
       "      <th>63451</th>\n",
       "      <td>kkst1997992565</td>\n",
       "      <td>0</td>\n",
       "    </tr>\n",
       "    <tr>\n",
       "      <th>63452</th>\n",
       "      <td>kkst151500671</td>\n",
       "      <td>0</td>\n",
       "    </tr>\n",
       "    <tr>\n",
       "      <th>63453</th>\n",
       "      <td>kkst1852942336</td>\n",
       "      <td>0</td>\n",
       "    </tr>\n",
       "    <tr>\n",
       "      <th>63454</th>\n",
       "      <td>kkst193556602</td>\n",
       "      <td>0</td>\n",
       "    </tr>\n",
       "    <tr>\n",
       "      <th>63455</th>\n",
       "      <td>kkst2101292403</td>\n",
       "      <td>0</td>\n",
       "    </tr>\n",
       "    <tr>\n",
       "      <th>63456</th>\n",
       "      <td>kkst1986637168</td>\n",
       "      <td>0</td>\n",
       "    </tr>\n",
       "    <tr>\n",
       "      <th>63457</th>\n",
       "      <td>kkst601559396</td>\n",
       "      <td>0</td>\n",
       "    </tr>\n",
       "    <tr>\n",
       "      <th>63458</th>\n",
       "      <td>kkst1220292885</td>\n",
       "      <td>0</td>\n",
       "    </tr>\n",
       "    <tr>\n",
       "      <th>63459</th>\n",
       "      <td>kkst1908033896</td>\n",
       "      <td>0</td>\n",
       "    </tr>\n",
       "    <tr>\n",
       "      <th>63460</th>\n",
       "      <td>kkst538121766</td>\n",
       "      <td>1</td>\n",
       "    </tr>\n",
       "    <tr>\n",
       "      <th>63461</th>\n",
       "      <td>kkst1927608005</td>\n",
       "      <td>0</td>\n",
       "    </tr>\n",
       "    <tr>\n",
       "      <th>63462</th>\n",
       "      <td>kkst68821321</td>\n",
       "      <td>0</td>\n",
       "    </tr>\n",
       "    <tr>\n",
       "      <th>63463</th>\n",
       "      <td>kkst665771257</td>\n",
       "      <td>0</td>\n",
       "    </tr>\n",
       "    <tr>\n",
       "      <th>63464</th>\n",
       "      <td>kkst1164902454</td>\n",
       "      <td>0</td>\n",
       "    </tr>\n",
       "  </tbody>\n",
       "</table>\n",
       "<p>63465 rows × 2 columns</p>\n",
       "</div>"
      ],
      "text/plain": [
       "           project_id  final_status\n",
       "0       kkst917493670             0\n",
       "1      kkst1664901914             0\n",
       "2       kkst925125077             0\n",
       "3      kkst1427645275             0\n",
       "4      kkst1714249266             0\n",
       "5       kkst994744324             0\n",
       "6       kkst366471810             0\n",
       "7      kkst1686645245             1\n",
       "8      kkst1009612119             0\n",
       "9       kkst774947236             0\n",
       "10      kkst751736613             0\n",
       "11      kkst546487059             0\n",
       "12      kkst184185617             0\n",
       "13       kkst14737712             0\n",
       "14     kkst1709731255             0\n",
       "15      kkst677310901             0\n",
       "16     kkst2017864312             0\n",
       "17      kkst263053778             0\n",
       "18      kkst515365696             0\n",
       "19     kkst1399418181             0\n",
       "20     kkst1923573285             0\n",
       "21     kkst1835523556             0\n",
       "22      kkst691313362             0\n",
       "23     kkst1801490632             0\n",
       "24     kkst1370169828             0\n",
       "25       kkst69680953             0\n",
       "26       kkst65991350             0\n",
       "27      kkst533894809             0\n",
       "28     kkst1416439353             0\n",
       "29     kkst1728612166             0\n",
       "...               ...           ...\n",
       "63435  kkst2098627341             0\n",
       "63436  kkst1803681768             0\n",
       "63437  kkst1944372205             0\n",
       "63438   kkst175165058             0\n",
       "63439  kkst1206847840             0\n",
       "63440  kkst2053271225             0\n",
       "63441  kkst1170363987             0\n",
       "63442  kkst1872082968             0\n",
       "63443   kkst868147124             0\n",
       "63444    kkst96793268             0\n",
       "63445   kkst233040768             0\n",
       "63446   kkst192706265             0\n",
       "63447  kkst1648941684             0\n",
       "63448   kkst454855107             1\n",
       "63449  kkst1847337196             1\n",
       "63450  kkst1970590230             0\n",
       "63451  kkst1997992565             0\n",
       "63452   kkst151500671             0\n",
       "63453  kkst1852942336             0\n",
       "63454   kkst193556602             0\n",
       "63455  kkst2101292403             0\n",
       "63456  kkst1986637168             0\n",
       "63457   kkst601559396             0\n",
       "63458  kkst1220292885             0\n",
       "63459  kkst1908033896             0\n",
       "63460   kkst538121766             1\n",
       "63461  kkst1927608005             0\n",
       "63462    kkst68821321             0\n",
       "63463   kkst665771257             0\n",
       "63464  kkst1164902454             0\n",
       "\n",
       "[63465 rows x 2 columns]"
      ]
     },
     "execution_count": 39,
     "metadata": {},
     "output_type": "execute_result"
    }
   ],
   "source": [
    "submiss[['project_id','final_status']]"
   ]
  },
  {
   "cell_type": "code",
   "execution_count": 40,
   "metadata": {},
   "outputs": [],
   "source": [
    "submission.to_csv('successarycheck.csv',index=False)"
   ]
  },
  {
   "cell_type": "code",
   "execution_count": 46,
   "metadata": {},
   "outputs": [
    {
     "data": {
      "text/plain": [
       "Index([u'project_id', u'final_status'], dtype='object')"
      ]
     },
     "execution_count": 46,
     "metadata": {},
     "output_type": "execute_result"
    }
   ],
   "source": [
    "submiss.columns"
   ]
  },
  {
   "cell_type": "code",
   "execution_count": 47,
   "metadata": {},
   "outputs": [],
   "source": [
    "submiss.to_csv('check_pb.csv',index=False)"
   ]
  },
  {
   "cell_type": "code",
   "execution_count": 44,
   "metadata": {},
   "outputs": [],
   "source": [
    "su = pd.DataFrame({\"project_id\":idx,\"final_status\":pred})\n",
    "\n",
    "su.to_csv('pb_op.csv',index=False)"
   ]
  },
  {
   "cell_type": "code",
   "execution_count": null,
   "metadata": {},
   "outputs": [],
   "source": []
  }
 ],
 "metadata": {
  "kernelspec": {
   "display_name": "Python 3",
   "language": "python",
   "name": "python3"
  },
  "language_info": {
   "codemirror_mode": {
    "name": "ipython",
    "version": 3
   },
   "file_extension": ".py",
   "mimetype": "text/x-python",
   "name": "python",
   "nbconvert_exporter": "python",
   "pygments_lexer": "ipython3",
   "version": "3.6.4"
  }
 },
 "nbformat": 4,
 "nbformat_minor": 2
}
